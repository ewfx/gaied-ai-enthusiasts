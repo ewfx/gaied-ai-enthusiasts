{
  "nbformat": 4,
  "nbformat_minor": 0,
  "metadata": {
    "colab": {
      "provenance": [],
      "gpuType": "T4"
    },
    "kernelspec": {
      "name": "python3",
      "display_name": "Python 3"
    },
    "language_info": {
      "name": "python"
    },
    "accelerator": "GPU"
  },
  "cells": [
    {
      "cell_type": "code",
      "source": [
        "#installing ollama\n",
        "#!pip install ollama\n",
        "!curl -fsSL https://ollama.com/install.sh | sh"
      ],
      "metadata": {
        "colab": {
          "base_uri": "https://localhost:8080/"
        },
        "id": "R3mOcyU_qwez",
        "outputId": "62b4d189-752f-4f41-e162-baa23d033d61"
      },
      "execution_count": 2,
      "outputs": [
        {
          "output_type": "stream",
          "name": "stdout",
          "text": [
            ">>> Cleaning up old version at /usr/local/lib/ollama\n",
            ">>> Installing ollama to /usr/local\n",
            ">>> Downloading Linux amd64 bundle\n",
            "############################################################################################# 100.0%\n",
            ">>> Adding ollama user to video group...\n",
            ">>> Adding current user to ollama group...\n",
            ">>> Creating ollama systemd service...\n",
            "\u001b[1m\u001b[31mWARNING:\u001b[m systemd is not running\n",
            "\u001b[1m\u001b[31mWARNING:\u001b[m Unable to detect NVIDIA/AMD GPU. Install lspci or lshw to automatically detect and install GPU dependencies.\n",
            ">>> The Ollama API is now available at 127.0.0.1:11434.\n",
            ">>> Install complete. Run \"ollama\" from the command line.\n"
          ]
        }
      ]
    },
    {
      "cell_type": "code",
      "source": [
        "#starting ollama server locally\n",
        "import subprocess\n",
        "import time\n",
        "process = subprocess.Popen(\"ollama serve\", shell=True)\n",
        "time.sleep(5)  # Wait for 5 seconds"
      ],
      "metadata": {
        "id": "q9if08lHrdto"
      },
      "execution_count": 21,
      "outputs": []
    },
    {
      "cell_type": "code",
      "source": [
        "#pulling llama3 using ollama\n",
        "!ollama pull llama3.1:8b"
      ],
      "metadata": {
        "colab": {
          "base_uri": "https://localhost:8080/"
        },
        "id": "kY3_LSecrMtE",
        "outputId": "ea70f522-a1d7-4244-9ad3-677c1e3a579e"
      },
      "execution_count": 22,
      "outputs": [
        {
          "output_type": "stream",
          "name": "stdout",
          "text": [
            "\u001b[?2026h\u001b[?25l\u001b[1Gpulling manifest ⠋ \u001b[K\u001b[?25h\u001b[?2026l\u001b[?2026h\u001b[?25l\u001b[1Gpulling manifest ⠙ \u001b[K\u001b[?25h\u001b[?2026l\u001b[?2026h\u001b[?25l\u001b[1Gpulling manifest ⠹ \u001b[K\u001b[?25h\u001b[?2026l\u001b[?2026h\u001b[?25l\u001b[1Gpulling manifest ⠸ \u001b[K\u001b[?25h\u001b[?2026l\u001b[?2026h\u001b[?25l\u001b[1Gpulling manifest \u001b[K\n",
            "pulling 667b0c1932bc... 100% ▕▏ 4.9 GB                         \u001b[K\n",
            "pulling 948af2743fc7... 100% ▕▏ 1.5 KB                         \u001b[K\n",
            "pulling 0ba8f0e314b4... 100% ▕▏  12 KB                         \u001b[K\n",
            "pulling 56bb8bd477a5... 100% ▕▏   96 B                         \u001b[K\n",
            "pulling 455f34728c9b... 100% ▕▏  487 B                         \u001b[K\n",
            "verifying sha256 digest \u001b[K\n",
            "writing manifest \u001b[K\n",
            "success \u001b[K\u001b[?25h\u001b[?2026l\n"
          ]
        }
      ]
    },
    {
      "cell_type": "code",
      "source": [
        "#testing llama 3 is availble\n",
        "!ollama list"
      ],
      "metadata": {
        "colab": {
          "base_uri": "https://localhost:8080/"
        },
        "id": "FCkY7l2hrTVm",
        "outputId": "f35f745a-5d5d-4182-c55e-7902e9f7cfcc"
      },
      "execution_count": 5,
      "outputs": [
        {
          "output_type": "stream",
          "name": "stdout",
          "text": [
            "NAME           ID              SIZE      MODIFIED               \n",
            "llama3.1:8b    46e0c10c039e    4.9 GB    Less than a second ago    \n"
          ]
        }
      ]
    },
    {
      "cell_type": "code",
      "source": [
        "!pip install --upgrade langchain langchain_community faiss-cpu eml_parser pypdf transformers accelerate Flask pyngrok"
      ],
      "metadata": {
        "colab": {
          "base_uri": "https://localhost:8080/"
        },
        "id": "EETVzN-ZsYjJ",
        "outputId": "09eff05c-97f7-4a7d-eca4-0391bf424616"
      },
      "execution_count": 6,
      "outputs": [
        {
          "output_type": "stream",
          "name": "stdout",
          "text": [
            "Requirement already satisfied: langchain in /usr/local/lib/python3.11/dist-packages (0.3.21)\n",
            "Requirement already satisfied: langchain_community in /usr/local/lib/python3.11/dist-packages (0.3.20)\n",
            "Requirement already satisfied: faiss-cpu in /usr/local/lib/python3.11/dist-packages (1.10.0)\n",
            "Requirement already satisfied: eml_parser in /usr/local/lib/python3.11/dist-packages (2.0.0)\n",
            "Requirement already satisfied: pypdf in /usr/local/lib/python3.11/dist-packages (5.4.0)\n",
            "Requirement already satisfied: transformers in /usr/local/lib/python3.11/dist-packages (4.50.1)\n",
            "Requirement already satisfied: accelerate in /usr/local/lib/python3.11/dist-packages (1.5.2)\n",
            "Requirement already satisfied: Flask in /usr/local/lib/python3.11/dist-packages (3.1.0)\n",
            "Requirement already satisfied: pyngrok in /usr/local/lib/python3.11/dist-packages (7.2.3)\n",
            "Requirement already satisfied: langchain-core<1.0.0,>=0.3.45 in /usr/local/lib/python3.11/dist-packages (from langchain) (0.3.47)\n",
            "Requirement already satisfied: langchain-text-splitters<1.0.0,>=0.3.7 in /usr/local/lib/python3.11/dist-packages (from langchain) (0.3.7)\n",
            "Requirement already satisfied: langsmith<0.4,>=0.1.17 in /usr/local/lib/python3.11/dist-packages (from langchain) (0.3.18)\n",
            "Requirement already satisfied: pydantic<3.0.0,>=2.7.4 in /usr/local/lib/python3.11/dist-packages (from langchain) (2.10.6)\n",
            "Requirement already satisfied: SQLAlchemy<3,>=1.4 in /usr/local/lib/python3.11/dist-packages (from langchain) (2.0.39)\n",
            "Requirement already satisfied: requests<3,>=2 in /usr/local/lib/python3.11/dist-packages (from langchain) (2.32.3)\n",
            "Requirement already satisfied: PyYAML>=5.3 in /usr/local/lib/python3.11/dist-packages (from langchain) (6.0.2)\n",
            "Requirement already satisfied: aiohttp<4.0.0,>=3.8.3 in /usr/local/lib/python3.11/dist-packages (from langchain_community) (3.11.14)\n",
            "Requirement already satisfied: tenacity!=8.4.0,<10,>=8.1.0 in /usr/local/lib/python3.11/dist-packages (from langchain_community) (9.0.0)\n",
            "Requirement already satisfied: dataclasses-json<0.7,>=0.5.7 in /usr/local/lib/python3.11/dist-packages (from langchain_community) (0.6.7)\n",
            "Requirement already satisfied: pydantic-settings<3.0.0,>=2.4.0 in /usr/local/lib/python3.11/dist-packages (from langchain_community) (2.8.1)\n",
            "Requirement already satisfied: httpx-sse<1.0.0,>=0.4.0 in /usr/local/lib/python3.11/dist-packages (from langchain_community) (0.4.0)\n",
            "Requirement already satisfied: numpy<3,>=1.26.2 in /usr/local/lib/python3.11/dist-packages (from langchain_community) (2.0.2)\n",
            "Requirement already satisfied: packaging in /usr/local/lib/python3.11/dist-packages (from faiss-cpu) (24.2)\n",
            "Requirement already satisfied: python-dateutil in /usr/local/lib/python3.11/dist-packages (from eml_parser) (2.8.2)\n",
            "Requirement already satisfied: charset-normalizer in /usr/local/lib/python3.11/dist-packages (from eml_parser) (3.4.1)\n",
            "Requirement already satisfied: publicsuffixlist in /usr/local/lib/python3.11/dist-packages (from eml_parser) (1.0.2.20250319)\n",
            "Requirement already satisfied: filelock in /usr/local/lib/python3.11/dist-packages (from transformers) (3.18.0)\n",
            "Requirement already satisfied: huggingface-hub<1.0,>=0.26.0 in /usr/local/lib/python3.11/dist-packages (from transformers) (0.29.3)\n",
            "Requirement already satisfied: regex!=2019.12.17 in /usr/local/lib/python3.11/dist-packages (from transformers) (2024.11.6)\n",
            "Requirement already satisfied: tokenizers<0.22,>=0.21 in /usr/local/lib/python3.11/dist-packages (from transformers) (0.21.1)\n",
            "Requirement already satisfied: safetensors>=0.4.3 in /usr/local/lib/python3.11/dist-packages (from transformers) (0.5.3)\n",
            "Requirement already satisfied: tqdm>=4.27 in /usr/local/lib/python3.11/dist-packages (from transformers) (4.67.1)\n",
            "Requirement already satisfied: psutil in /usr/local/lib/python3.11/dist-packages (from accelerate) (5.9.5)\n",
            "Requirement already satisfied: torch>=2.0.0 in /usr/local/lib/python3.11/dist-packages (from accelerate) (2.6.0+cu124)\n",
            "Requirement already satisfied: Werkzeug>=3.1 in /usr/local/lib/python3.11/dist-packages (from Flask) (3.1.3)\n",
            "Requirement already satisfied: Jinja2>=3.1.2 in /usr/local/lib/python3.11/dist-packages (from Flask) (3.1.6)\n",
            "Requirement already satisfied: itsdangerous>=2.2 in /usr/local/lib/python3.11/dist-packages (from Flask) (2.2.0)\n",
            "Requirement already satisfied: click>=8.1.3 in /usr/local/lib/python3.11/dist-packages (from Flask) (8.1.8)\n",
            "Requirement already satisfied: blinker>=1.9 in /usr/local/lib/python3.11/dist-packages (from Flask) (1.9.0)\n",
            "Requirement already satisfied: aiohappyeyeballs>=2.3.0 in /usr/local/lib/python3.11/dist-packages (from aiohttp<4.0.0,>=3.8.3->langchain_community) (2.6.1)\n",
            "Requirement already satisfied: aiosignal>=1.1.2 in /usr/local/lib/python3.11/dist-packages (from aiohttp<4.0.0,>=3.8.3->langchain_community) (1.3.2)\n",
            "Requirement already satisfied: attrs>=17.3.0 in /usr/local/lib/python3.11/dist-packages (from aiohttp<4.0.0,>=3.8.3->langchain_community) (25.3.0)\n",
            "Requirement already satisfied: frozenlist>=1.1.1 in /usr/local/lib/python3.11/dist-packages (from aiohttp<4.0.0,>=3.8.3->langchain_community) (1.5.0)\n",
            "Requirement already satisfied: multidict<7.0,>=4.5 in /usr/local/lib/python3.11/dist-packages (from aiohttp<4.0.0,>=3.8.3->langchain_community) (6.2.0)\n",
            "Requirement already satisfied: propcache>=0.2.0 in /usr/local/lib/python3.11/dist-packages (from aiohttp<4.0.0,>=3.8.3->langchain_community) (0.3.0)\n",
            "Requirement already satisfied: yarl<2.0,>=1.17.0 in /usr/local/lib/python3.11/dist-packages (from aiohttp<4.0.0,>=3.8.3->langchain_community) (1.18.3)\n",
            "Requirement already satisfied: marshmallow<4.0.0,>=3.18.0 in /usr/local/lib/python3.11/dist-packages (from dataclasses-json<0.7,>=0.5.7->langchain_community) (3.26.1)\n",
            "Requirement already satisfied: typing-inspect<1,>=0.4.0 in /usr/local/lib/python3.11/dist-packages (from dataclasses-json<0.7,>=0.5.7->langchain_community) (0.9.0)\n",
            "Requirement already satisfied: fsspec>=2023.5.0 in /usr/local/lib/python3.11/dist-packages (from huggingface-hub<1.0,>=0.26.0->transformers) (2025.3.0)\n",
            "Requirement already satisfied: typing-extensions>=3.7.4.3 in /usr/local/lib/python3.11/dist-packages (from huggingface-hub<1.0,>=0.26.0->transformers) (4.12.2)\n",
            "Requirement already satisfied: MarkupSafe>=2.0 in /usr/local/lib/python3.11/dist-packages (from Jinja2>=3.1.2->Flask) (3.0.2)\n",
            "Requirement already satisfied: jsonpatch<2.0,>=1.33 in /usr/local/lib/python3.11/dist-packages (from langchain-core<1.0.0,>=0.3.45->langchain) (1.33)\n",
            "Requirement already satisfied: httpx<1,>=0.23.0 in /usr/local/lib/python3.11/dist-packages (from langsmith<0.4,>=0.1.17->langchain) (0.28.1)\n",
            "Requirement already satisfied: orjson<4.0.0,>=3.9.14 in /usr/local/lib/python3.11/dist-packages (from langsmith<0.4,>=0.1.17->langchain) (3.10.15)\n",
            "Requirement already satisfied: requests-toolbelt<2.0.0,>=1.0.0 in /usr/local/lib/python3.11/dist-packages (from langsmith<0.4,>=0.1.17->langchain) (1.0.0)\n",
            "Requirement already satisfied: zstandard<0.24.0,>=0.23.0 in /usr/local/lib/python3.11/dist-packages (from langsmith<0.4,>=0.1.17->langchain) (0.23.0)\n",
            "Requirement already satisfied: annotated-types>=0.6.0 in /usr/local/lib/python3.11/dist-packages (from pydantic<3.0.0,>=2.7.4->langchain) (0.7.0)\n",
            "Requirement already satisfied: pydantic-core==2.27.2 in /usr/local/lib/python3.11/dist-packages (from pydantic<3.0.0,>=2.7.4->langchain) (2.27.2)\n",
            "Requirement already satisfied: python-dotenv>=0.21.0 in /usr/local/lib/python3.11/dist-packages (from pydantic-settings<3.0.0,>=2.4.0->langchain_community) (1.1.0)\n",
            "Requirement already satisfied: idna<4,>=2.5 in /usr/local/lib/python3.11/dist-packages (from requests<3,>=2->langchain) (3.10)\n",
            "Requirement already satisfied: urllib3<3,>=1.21.1 in /usr/local/lib/python3.11/dist-packages (from requests<3,>=2->langchain) (2.3.0)\n",
            "Requirement already satisfied: certifi>=2017.4.17 in /usr/local/lib/python3.11/dist-packages (from requests<3,>=2->langchain) (2025.1.31)\n",
            "Requirement already satisfied: greenlet!=0.4.17 in /usr/local/lib/python3.11/dist-packages (from SQLAlchemy<3,>=1.4->langchain) (3.1.1)\n",
            "Requirement already satisfied: networkx in /usr/local/lib/python3.11/dist-packages (from torch>=2.0.0->accelerate) (3.4.2)\n",
            "Requirement already satisfied: nvidia-cuda-nvrtc-cu12==12.4.127 in /usr/local/lib/python3.11/dist-packages (from torch>=2.0.0->accelerate) (12.4.127)\n",
            "Requirement already satisfied: nvidia-cuda-runtime-cu12==12.4.127 in /usr/local/lib/python3.11/dist-packages (from torch>=2.0.0->accelerate) (12.4.127)\n",
            "Requirement already satisfied: nvidia-cuda-cupti-cu12==12.4.127 in /usr/local/lib/python3.11/dist-packages (from torch>=2.0.0->accelerate) (12.4.127)\n",
            "Requirement already satisfied: nvidia-cudnn-cu12==9.1.0.70 in /usr/local/lib/python3.11/dist-packages (from torch>=2.0.0->accelerate) (9.1.0.70)\n",
            "Requirement already satisfied: nvidia-cublas-cu12==12.4.5.8 in /usr/local/lib/python3.11/dist-packages (from torch>=2.0.0->accelerate) (12.4.5.8)\n",
            "Requirement already satisfied: nvidia-cufft-cu12==11.2.1.3 in /usr/local/lib/python3.11/dist-packages (from torch>=2.0.0->accelerate) (11.2.1.3)\n",
            "Requirement already satisfied: nvidia-curand-cu12==10.3.5.147 in /usr/local/lib/python3.11/dist-packages (from torch>=2.0.0->accelerate) (10.3.5.147)\n",
            "Requirement already satisfied: nvidia-cusolver-cu12==11.6.1.9 in /usr/local/lib/python3.11/dist-packages (from torch>=2.0.0->accelerate) (11.6.1.9)\n",
            "Requirement already satisfied: nvidia-cusparse-cu12==12.3.1.170 in /usr/local/lib/python3.11/dist-packages (from torch>=2.0.0->accelerate) (12.3.1.170)\n",
            "Requirement already satisfied: nvidia-cusparselt-cu12==0.6.2 in /usr/local/lib/python3.11/dist-packages (from torch>=2.0.0->accelerate) (0.6.2)\n",
            "Requirement already satisfied: nvidia-nccl-cu12==2.21.5 in /usr/local/lib/python3.11/dist-packages (from torch>=2.0.0->accelerate) (2.21.5)\n",
            "Requirement already satisfied: nvidia-nvtx-cu12==12.4.127 in /usr/local/lib/python3.11/dist-packages (from torch>=2.0.0->accelerate) (12.4.127)\n",
            "Requirement already satisfied: nvidia-nvjitlink-cu12==12.4.127 in /usr/local/lib/python3.11/dist-packages (from torch>=2.0.0->accelerate) (12.4.127)\n",
            "Requirement already satisfied: triton==3.2.0 in /usr/local/lib/python3.11/dist-packages (from torch>=2.0.0->accelerate) (3.2.0)\n",
            "Requirement already satisfied: sympy==1.13.1 in /usr/local/lib/python3.11/dist-packages (from torch>=2.0.0->accelerate) (1.13.1)\n",
            "Requirement already satisfied: mpmath<1.4,>=1.1.0 in /usr/local/lib/python3.11/dist-packages (from sympy==1.13.1->torch>=2.0.0->accelerate) (1.3.0)\n",
            "Requirement already satisfied: six>=1.5 in /usr/local/lib/python3.11/dist-packages (from python-dateutil->eml_parser) (1.17.0)\n",
            "Requirement already satisfied: anyio in /usr/local/lib/python3.11/dist-packages (from httpx<1,>=0.23.0->langsmith<0.4,>=0.1.17->langchain) (4.9.0)\n",
            "Requirement already satisfied: httpcore==1.* in /usr/local/lib/python3.11/dist-packages (from httpx<1,>=0.23.0->langsmith<0.4,>=0.1.17->langchain) (1.0.7)\n",
            "Requirement already satisfied: h11<0.15,>=0.13 in /usr/local/lib/python3.11/dist-packages (from httpcore==1.*->httpx<1,>=0.23.0->langsmith<0.4,>=0.1.17->langchain) (0.14.0)\n",
            "Requirement already satisfied: jsonpointer>=1.9 in /usr/local/lib/python3.11/dist-packages (from jsonpatch<2.0,>=1.33->langchain-core<1.0.0,>=0.3.45->langchain) (3.0.0)\n",
            "Requirement already satisfied: mypy-extensions>=0.3.0 in /usr/local/lib/python3.11/dist-packages (from typing-inspect<1,>=0.4.0->dataclasses-json<0.7,>=0.5.7->langchain_community) (1.0.0)\n",
            "Requirement already satisfied: sniffio>=1.1 in /usr/local/lib/python3.11/dist-packages (from anyio->httpx<1,>=0.23.0->langsmith<0.4,>=0.1.17->langchain) (1.3.1)\n"
          ]
        }
      ]
    },
    {
      "cell_type": "code",
      "execution_count": 36,
      "metadata": {
        "id": "w8J9_au2qZKy"
      },
      "outputs": [],
      "source": [
        "import os\n",
        "import json\n",
        "import torch\n",
        "from langchain.llms import Ollama\n",
        "from langchain.embeddings import HuggingFaceEmbeddings\n",
        "from langchain.vectorstores import FAISS\n",
        "from langchain.document_loaders import PyPDFLoader\n",
        "from langchain.text_splitter import RecursiveCharacterTextSplitter\n",
        "from langchain.chains import LLMChain\n",
        "from langchain.prompts import PromptTemplate\n",
        "import faiss\n",
        "import json\n",
        "import hashlib\n",
        "import numpy as np\n",
        "import email\n",
        "import os\n",
        "import eml_parser\n",
        "from datetime import datetime\n",
        "from langchain.embeddings import HuggingFaceEmbeddings\n",
        "from langchain.llms import Ollama\n",
        "from scipy.spatial.distance import cosine\n",
        "from bs4 import BeautifulSoup\n",
        "from langchain_community.vectorstores import FAISS\n",
        "import configuration\n",
        "import email\n",
        "from bs4 import BeautifulSoup\n",
        "import os\n",
        "import tempfile\n",
        "from langchain.document_loaders import PyPDFLoader\n",
        "from openpyxl import load_workbook\n",
        "import extractEmailData\n",
        "import CheckDupliateEmails\n",
        "import StoreEmails\n",
        "import extractJsonUtil"
      ]
    },
    {
      "cell_type": "code",
      "source": [
        "# Load LLaMA 3 Model\n",
        "llm = Ollama(model=\"llama3.1:8b\")"
      ],
      "metadata": {
        "id": "Q40ph1OHr354",
        "colab": {
          "base_uri": "https://localhost:8080/"
        },
        "outputId": "f1d1c7f2-ddb1-4693-eaf9-af82d8d706ea"
      },
      "execution_count": 8,
      "outputs": [
        {
          "output_type": "stream",
          "name": "stderr",
          "text": [
            "<ipython-input-8-3025ddad1d65>:2: LangChainDeprecationWarning: The class `Ollama` was deprecated in LangChain 0.3.1 and will be removed in 1.0.0. An updated version of the class exists in the :class:`~langchain-ollama package and should be used instead. To use it run `pip install -U :class:`~langchain-ollama` and import as `from :class:`~langchain_ollama import OllamaLLM``.\n",
            "  llm = Ollama(model=\"llama3.1:8b\")\n"
          ]
        }
      ]
    },
    {
      "cell_type": "code",
      "source": [
        "# Load embedding model\n",
        "embedding_model = HuggingFaceEmbeddings(model_name=\"sentence-transformers/all-mpnet-base-v2\")"
      ],
      "metadata": {
        "id": "3H0iYPhgCZif",
        "colab": {
          "base_uri": "https://localhost:8080/"
        },
        "outputId": "5b989f18-558c-45ef-9490-a503909035bc"
      },
      "execution_count": 9,
      "outputs": [
        {
          "output_type": "stream",
          "name": "stderr",
          "text": [
            "<ipython-input-9-0f08530b9cbf>:2: LangChainDeprecationWarning: The class `HuggingFaceEmbeddings` was deprecated in LangChain 0.2.2 and will be removed in 1.0. An updated version of the class exists in the :class:`~langchain-huggingface package and should be used instead. To use it run `pip install -U :class:`~langchain-huggingface` and import as `from :class:`~langchain_huggingface import HuggingFaceEmbeddings``.\n",
            "  embedding_model = HuggingFaceEmbeddings(model_name=\"sentence-transformers/all-mpnet-base-v2\")\n",
            "/usr/local/lib/python3.11/dist-packages/huggingface_hub/utils/_auth.py:94: UserWarning: \n",
            "The secret `HF_TOKEN` does not exist in your Colab secrets.\n",
            "To authenticate with the Hugging Face Hub, create a token in your settings tab (https://huggingface.co/settings/tokens), set it as secret in your Google Colab and restart your session.\n",
            "You will be able to reuse this secret in all of your notebooks.\n",
            "Please note that authentication is recommended but still optional to access public models or datasets.\n",
            "  warnings.warn(\n"
          ]
        }
      ]
    },
    {
      "cell_type": "code",
      "source": [
        "# Function to extract key data points dynamically\n",
        "def extract_key_data(text):\n",
        "    prompt = f\"\"\"\n",
        "    Extract key data points from the following text:\n",
        "\n",
        "    Text: \"{text}\"\n",
        "\n",
        "    Identify fields such as {configuration.keyMetrics}\n",
        "    Respond in JSON format like this:\n",
        "    {{\n",
        "        \"sender_name\": \"string\",\n",
        "        \"amount\": \"string\",\n",
        "        \"expiration_date\": \"string\",\n",
        "        \"date_to_transfer\": \"string\"\n",
        "    }}\n",
        "    \"\"\"\n",
        "\n",
        "    response = llm.invoke(prompt)\n",
        "    try:\n",
        "        extracted_data = extractJsonUtil.extract_json_from_string(response)\n",
        "    except json.JSONDecodeError:\n",
        "        extracted_data = {}\n",
        "    return extracted_data"
      ],
      "metadata": {
        "id": "Jus19ZFQENbv"
      },
      "execution_count": 37,
      "outputs": []
    },
    {
      "cell_type": "code",
      "source": [
        "# Function to extract key data points dynamically\n",
        "def classify_email(text):\n",
        "\n",
        "    prompt = f\"\"\"\n",
        "You are a commercial loan servicing assistant. Your task is to analyze the provided email body and identify all service requests mentioned, classifying each into a specific category and subtype.\n",
        "\n",
        "Email Body:\n",
        "{text}\n",
        "\n",
        "Available Request Types and Subtypes:\n",
        "{configuration.requestTypesAndSubTypes}\n",
        "\n",
        "Instructions:\n",
        "1. Thoroughly review the email body and identify all instances where a service request is being made.\n",
        "2. For each request, determine the most appropriate request category from the provided list.\n",
        "3. If applicable, select the relevant subrequest type based on the specifics of the request.\n",
        "4. Base your confidence on factors like:\n",
        "    - Presence of keywords related to the request category/subtype.\n",
        "    - Overall semantic similarity between the request and the category/subtype description.\n",
        "    - The strength and clarity of the request expressed in the email.\n",
        "5. If a single sentence or phrase implies multiple requests, prioritize the most specific and explicit request.\n",
        "6. If there are overlapping or ambiguous requests, use your best judgment to classify them based on the overall context of the email.\n",
        "\n",
        "Return your classification in the following JSON format:\n",
        "\n",
        "{{\n",
        "  \"requests\": [\n",
        "    {{\n",
        "      \"request_category\": \"Selected Category\",\n",
        "      \"subrequest_type\": \"Selected Subtype\",\n",
        "      \"confidence_reason\": \"Brief explanation for your confidence level\"\n",
        "      \"confidence score percentage\": \"\"\n",
        "    }},\n",
        "    {{\n",
        "      \"request_category\": \"Selected Category\",\n",
        "      \"subrequest_type\": \"Selected Subtype\",\n",
        "      \"confidence_reason\": \"Brief explanation for your confidence level\"\n",
        "      \"confidence score percentage\": \"\"\n",
        "    }},\n",
        "    // ... more requests\n",
        "  ]\n",
        "}}\n",
        "\"\"\"\n",
        "\n",
        "    response = llm.invoke(prompt)\n",
        "    #print(\"llm res\", response)\n",
        "    try:\n",
        "        extracted_data = extractJsonUtil.extract_requests_json(response)\n",
        "    except json.JSONDecodeError:\n",
        "        extracted_data = []\n",
        "    return extracted_data"
      ],
      "metadata": {
        "id": "J_i9Q0UdOAty"
      },
      "execution_count": 38,
      "outputs": []
    },
    {
      "cell_type": "code",
      "source": [
        "example_texts = [\"This is an example text for initialization.\"]\n",
        "vectorstore = FAISS.from_texts(example_texts, embedding_model)"
      ],
      "metadata": {
        "id": "lRJfTnCbJOf5"
      },
      "execution_count": 44,
      "outputs": []
    },
    {
      "cell_type": "code",
      "source": [
        "all_docs = vectorstore.similarity_search(\"\", k=vectorstore.index.ntotal)\n",
        "print(len(all_docs))"
      ],
      "metadata": {
        "colab": {
          "base_uri": "https://localhost:8080/"
        },
        "id": "h3eqtvwVUHHM",
        "outputId": "2e3efb66-8ab1-47e7-86cc-8a5819ff6d23"
      },
      "execution_count": 16,
      "outputs": [
        {
          "output_type": "stream",
          "name": "stdout",
          "text": [
            "1\n"
          ]
        }
      ]
    },
    {
      "cell_type": "code",
      "source": [
        "def process_eml_file(eml_file_path):\n",
        "    \"\"\"Processes an EML file and returns the results.\"\"\"\n",
        "    results = []\n",
        "\n",
        "    if eml_file_path.endswith(\".eml\"):\n",
        "        email_text = extractEmailData.extract_email_data(eml_file_path)\n",
        "        email_content = email_text['subject'] + email_text['body']\n",
        "        email_attachments_content = email_text['attachments']\n",
        "\n",
        "        is_dup, source, score = CheckDupliateEmails.check_duplicate(email_content, vectorstore, embedding_model, configuration.duplicateCheckThresold)\n",
        "\n",
        "        response_json = {}\n",
        "        if is_dup:\n",
        "            response_json = {\n",
        "                \"email_text\": email_content[:100] + \"...\",\n",
        "                \"classification\": \"duplicate\",\n",
        "                \"duplicate\": is_dup,\n",
        "            }\n",
        "        else:\n",
        "            classification = classify_email(email_content)\n",
        "            extracted_data = extract_key_data(email_content)\n",
        "            StoreEmails.store_email(email_content, vectorstore, embedding_model)\n",
        "            response_json = {\n",
        "                \"email_text\": email_content[:100] + \"...\",\n",
        "                \"classification\": classification,\n",
        "                \"duplicate\": is_dup,\n",
        "                \"key_data\": extracted_data\n",
        "            }\n",
        "        results.append(response_json)\n",
        "\n",
        "        print(\"resuls\", json.dumps(results, indent=2))\n",
        "\n",
        "    return results\n"
      ],
      "metadata": {
        "id": "ryans1S4EtsM"
      },
      "execution_count": 45,
      "outputs": []
    },
    {
      "cell_type": "code",
      "source": [
        "process_eml_file(\"email.eml\")"
      ],
      "metadata": {
        "colab": {
          "base_uri": "https://localhost:8080/"
        },
        "id": "Jl44gd_Wc6BC",
        "outputId": "c9fa0c0e-4be0-462b-8ae5-bb4d192c584b"
      },
      "execution_count": 46,
      "outputs": [
        {
          "output_type": "stream",
          "name": "stdout",
          "text": [
            "Current email embedding: [0.06368917971849442, 0.0010894684819504619, -0.011865378357470036, -0.031230291351675987, 0.030863210558891296, 0.030553920194506645, -0.020263152197003365, -0.0018225387902930379, -0.05592602118849754, -0.011899597942829132, -0.05644566938281059, 0.00956113450229168, 0.015409605577588081, 0.02048807591199875, -0.05141672119498253, -0.007854587398469448, 0.014856945723295212, -0.028597582131624222, 0.04317307844758034, 0.01562570221722126, 0.000382595113478601, 0.02962465211749077, -0.03363037109375, -0.06420730799436569, -0.010811811313033104, -0.03461159020662308, -0.004750088322907686, 0.001154324971139431, 0.014179172925651073, -0.020099367946386337, 0.020061975345015526, 0.01114443689584732, 0.005008608102798462, -0.030471816658973694, 1.7758544572643586e-06, -0.027035273611545563, 0.011670087464153767, 0.012502776458859444, -0.025437092408537865, 0.09080171585083008, -0.016279200091958046, 0.009329229593276978, -0.025286447256803513, 0.037983767688274384, -0.0410403348505497, 0.014961931854486465, 0.021865563467144966, -0.027745157480239868, 0.08735637366771698, 0.05415206775069237, -0.017211347818374634, -0.06478019803762436, -0.022107047960162163, -0.010104767046868801, 0.012276421301066875, -0.10253708809614182, 0.001383280730806291, 0.015382938086986542, -0.047243472188711166, -0.036938998848199844, 0.001880065887235105, 0.01368532981723547, 0.0681527629494667, -0.04813016206026077, 0.060401223599910736, -0.06983499974012375, -0.05968392640352249, 0.0019365445477887988, 0.009634622372686863, -0.021818846464157104, 0.1319185197353363, 0.04186927154660225, -0.0023686476051807404, 0.03735771402716637, 0.008618351072072983, 0.02806243859231472, -0.03188338503241539, -0.03163915500044823, 0.023144211620092392, -0.047755513340234756, -0.06385537981987, -0.028012456372380257, -0.0012315190397202969, -0.004553241655230522, -0.08121431618928909, 0.002044492168352008, -0.012548733502626419, -0.0017251416575163603, -0.012140080332756042, -0.003150292206555605, 0.016217222437262535, -0.04291723668575287, 0.0007118228240869939, 0.017936667427420616, 0.004772103391587734, -0.009647854603827, 0.013482959009706974, -0.012524169869720936, -0.011276927776634693, -0.02269282564520836, 0.027434276416897774, -0.016101662069559097, 0.018656594678759575, 0.0034840137232095003, 0.016091467812657356, 0.08436380326747894, -0.04931570217013359, -0.005763337016105652, -0.05298955738544464, 0.05898940563201904, 0.00830078311264515, -0.019041385501623154, -0.029523564502596855, 0.05591782554984093, -0.042734719812870026, 0.03661806508898735, -0.03342596814036369, -0.010796481743454933, -0.0002988454361911863, 0.023961691185832024, 0.05849354714155197, 0.014194851741194725, 0.04652094095945358, 0.0034509357064962387, -0.015468623489141464, 0.06498324126005173, -0.024743109941482544, 0.03424587845802307, 0.019353654235601425, 0.0056279622949659824, 0.013609434477984905, 0.06531062722206116, -0.01345488429069519, -0.021692024543881416, -0.003344092983752489, 0.03312534838914871, 0.002652145456522703, -0.00935578066855669, 0.03911984711885452, 0.019363466650247574, 0.018458547070622444, 0.009689193218946457, -0.0008186814957298338, 0.014030621387064457, -0.03563320264220238, 0.014260017313063145, 0.011752680875360966, 0.06729298084974289, -0.04236612841486931, 0.02968806028366089, -0.0361434742808342, 0.0011625915067270398, -0.00453405175358057, -0.015763262286782265, 0.014472436159849167, -0.007425164338201284, 0.0240130964666605, -0.0662626400589943, 0.03338393196463585, 0.025797659531235695, -0.03348231688141823, -0.03131132945418358, -0.05469160154461861, -0.039271820336580276, -0.013268698938190937, -0.015474743209779263, 0.034109845757484436, 0.007491982076317072, -0.04321502894163132, 0.008065381087362766, 0.0006905777263455093, 0.013739245943725109, -0.0017249049851670861, -0.03535473346710205, 0.009515400044620037, 0.008944030851125717, 0.010484480299055576, -0.037399470806121826, -0.04844209924340248, 0.004739779978990555, -0.026202207431197166, -0.10543043166399002, -0.046774476766586304, 0.010956686921417713, -0.05165960639715195, 0.03324507176876068, 0.0259997621178627, -0.008098701015114784, -0.013204216957092285, 0.010575973428785801, -0.0026057150680571795, 0.03733579441905022, -0.0801481157541275, -0.0009323283447884023, -0.04718446359038353, 0.03976587578654289, 0.014288784004747868, 0.01958027109503746, 0.06637338548898697, 0.013056895695626736, 0.007947676815092564, -0.0868317112326622, 0.04194197431206703, 0.013186666183173656, 0.027030734345316887, -0.020355910062789917, -0.021605579182505608, 0.013246170245110989, -0.008265919052064419, 0.021016212180256844, 0.09046494960784912, 0.051143158227205276, -0.05791858956217766, -0.016916565597057343, 0.004731189459562302, 0.05094677209854126, -0.03994351997971535, 0.030650608241558075, -0.044835660606622696, -0.03816099092364311, -0.0021156694274395704, 0.06202821433544159, -0.024533599615097046, -0.01666858233511448, 0.05205810070037842, -0.0013150623999536037, 0.003224128158763051, -0.027191029861569405, 0.028159167617559433, -0.00956337433308363, -0.0315985381603241, 0.0033544818870723248, -0.0005260670441202819, 0.014130313880741596, 0.05388699844479561, 0.018199793994426727, -0.044771891087293625, 0.02699252963066101, 0.020911194384098053, 0.03820374235510826, 0.007453718222677708, -0.01645205169916153, -0.03163542598485947, 0.018967172130942345, 0.052024099975824356, -0.0033578609582036734, -0.030967213213443756, -0.030840499326586723, 0.06048159673810005, 0.010794484056532383, 0.025292957201600075, 0.009424840100109577, -0.006313064601272345, 0.03532638028264046, -0.0062868548557162285, 0.03742864727973938, -0.01606735959649086, -0.05002867802977562, 0.018474996089935303, 0.019352855160832405, -0.025186685845255852, 0.01715768501162529, -0.04701007902622223, -0.04269768297672272, -0.004175653215497732, 0.00720418244600296, 0.04371994361281395, 0.06635080277919769, -0.01674722507596016, 0.023470602929592133, -0.0245195422321558, 0.03943051025271416, 0.029560372233390808, -0.00395236536860466, 0.02991701290011406, -0.021487027406692505, 0.015816055238246918, -0.021692218258976936, -0.003746039466932416, 0.04791537672281265, 0.019538825377821922, -0.02744578756392002, -0.00893778819590807, 0.007086129393428564, 0.02488098479807377, -0.012526334263384342, 0.06213551014661789, -0.04365409538149834, -0.09669431298971176, 0.02248089388012886, 0.008964029140770435, -0.042899440973997116, 0.016021551564335823, -0.01389261707663536, -0.0182950459420681, -0.01988264173269272, -0.03593559190630913, 0.06782183796167374, -0.016994118690490723, 0.054320015013217926, -0.025426505133509636, 0.027232592925429344, 0.02145402878522873, -0.033473528921604156, 0.02895684912800789, -0.00635692710056901, -0.002862647408619523, 0.04347248375415802, 0.03789344057440758, -0.0010834898566827178, 0.01938333921134472, -0.007100109476596117, -0.0014534681104123592, -0.02929549291729927, 0.03791232034564018, -0.0418986901640892, 0.045483577996492386, 0.020161081105470657, -0.023388966917991638, 0.06203163415193558, -0.006984630599617958, 0.04115288332104683, 0.06185325235128403, 0.059692904353141785, -0.030861102044582367, -0.0045503233559429646, -0.02005067467689514, 0.012468225322663784, -0.033497028052806854, -0.055725544691085815, 0.042664337903261185, 0.006487937644124031, -0.06373565644025803, 0.002869437914341688, -0.021506763994693756, 0.002871632343158126, 0.011893688701093197, 0.038776643574237823, -0.0023732492700219154, -0.03830069303512573, 0.006627766881138086, 0.028467275202274323, -0.004529319237917662, -0.022035911679267883, 0.06664051860570908, 0.032658789306879044, 0.004369460977613926, -0.053482960909605026, -0.06678804755210876, -0.03188508749008179, -0.05142387002706528, -0.027145681902766228, -0.026048539206385612, 0.017025595530867577, -0.016420405358076096, -0.016233917325735092, -0.024256259202957153, 0.05839042738080025, -0.041829366236925125, -0.01672106795012951, 0.0048739672638475895, -0.001479296013712883, -0.027088608592748642, 0.04295491799712181, 0.036489080637693405, 0.05964932590723038, -0.015315549448132515, -0.027842842042446136, -0.04941697418689728, -0.031216857954859734, -0.0055318111553788185, -0.009664650075137615, -0.05680104345083237, 0.032030366361141205, 0.036249879747629166, -0.020620308816432953, 0.001977818552404642, -0.07016222923994064, 0.061938054859638214, 0.016155030578374863, 0.03698607161641121, -0.035139504820108414, 0.05927852541208267, -0.014769078232347965, 0.0037355402018874884, 0.04316212609410286, -0.016519788652658463, -0.03782719746232033, -0.0771765410900116, -0.024714551866054535, -0.0026565080042928457, 0.0156787671148777, -0.05883286893367767, 0.021425364539027214, -0.013811546377837658, 0.007306363433599472, 0.012818006798624992, 0.02957751974463463, 0.0521581657230854, 0.02896616794168949, 0.011931112967431545, -0.010734529234468937, 0.08898919075727463, -0.02324460633099079, -0.011142642237246037, -0.020335068926215172, 0.07144763320684433, -0.01530631072819233, -0.017699208110570908, 0.038442257791757584, 0.007196381222456694, 0.002667781198397279, -0.012437073513865471, 0.02423127181828022, -0.017011333256959915, 0.01632223092019558, -0.05027174949645996, -0.00748337572440505, 0.005415900144726038, -0.06383100897073746, -0.009999128989875317, -0.012495700269937515, 0.013704147189855576, 0.04292544722557068, 0.07438576221466064, -0.0076257274486124516, 0.06062573939561844, -0.06226477399468422, 0.009725826792418957, 0.004553452134132385, -0.023791519924998283, 0.07779216021299362, -0.0547846183180809, -0.01121323648840189, -0.0014317694585770369, 0.09575635939836502, -0.026872148737311363, -0.0281052328646183, 0.021504884585738182, -0.06627167761325836, -0.026324409991502762, 0.06652144342660904, 0.0257349144667387, 0.016322491690516472, -0.04868054389953613, 0.01573074795305729, 0.022178925573825836, -0.026999836787581444, -0.0203134473413229, -0.014184283092617989, 0.007280554622411728, -0.0397990345954895, -0.020850710570812225, -0.045794934034347534, 0.0559375062584877, -0.0002397747157374397, -0.04254359006881714, 0.01129637099802494, -0.06360937654972076, -0.00649047689512372, -0.018226880580186844, 0.022491587325930595, -0.049146298319101334, -0.003864312544465065, 0.027698229998350143, -0.021018730476498604, -0.005205621011555195, -0.0021574876736849546, 0.0012602569768205285, -0.050230614840984344, 0.023631764575839043, 0.04740146920084953, 0.011948476545512676, 0.026831863448023796, 0.010026302188634872, -0.020542843267321587, -0.04605533927679062, -0.0689772441983223, 0.01602299138903618, 0.03288796544075012, 0.05222856625914574, -0.04531266167759895, 0.036597657948732376, -0.09587731212377548, -0.05530213192105293, 0.015061474405229092, 0.033902741968631744, 0.004998001269996166, -0.01789453998208046, -0.0061371359042823315, 0.042119596153497696, -0.016328753903508186, 6.285397103056312e-05, -0.0470116026699543, 0.028373898938298225, -0.09266425669193268, 0.09610580652952194, 0.029381288215517998, 0.037570077925920486, 0.05765967443585396, -0.027256052941083908, 0.029936423525214195, 0.07182247936725616, -0.02598114125430584, -0.027748309075832367, -0.00017401736113242805, -0.01337252277880907, -0.005225924775004387, 0.002723388373851776, 0.00777149572968483, -0.014900404028594494, 0.010598080232739449, 0.017742065712809563, -0.0322951003909111, 0.0057393526658415794, 0.04003669321537018, -0.06117074936628342, -0.018362218514084816, -0.03385718911886215, -0.024152103811502457, 0.04228213056921959, 0.009293441660702229, 0.018795711919665337, 0.007965032942593098, -0.02801196090877056, -0.0473252572119236, 0.02938755787909031, -0.0012352265184745193, 0.014218851923942566, 0.005424779374152422, -0.05871960520744324, 0.03498341515660286, -0.08962373435497284, 0.04006095230579376, 0.012713774107396603, -0.007787737529724836, 0.03051249496638775, -0.04805388301610947, 0.03827326372265816, -0.009698714129626751, 0.041030507534742355, -0.013664488680660725, 0.05435144901275635, -0.021568486467003822, 0.04488517716526985, -0.006691909860819578, -0.025415854528546333, -0.04401995241641998, -0.0397043414413929, 0.015975791960954666, -0.01378192100673914, 0.01323788333684206, 0.05212601274251938, -0.027518073096871376, -0.01846129819750786, -5.257585828464843e-33, -0.05240903049707413, 0.02004344016313553, -0.052330560982227325, 0.0004009306139778346, -0.011418681591749191, -0.005157132633030415, -0.006736010778695345, -0.01341218687593937, -0.01400697510689497, 0.005218548700213432, -0.016684550791978836, 0.0487905815243721, 0.005280550569295883, -0.005297400988638401, 0.0037441023159772158, 0.011684452183544636, -0.030681733042001724, -0.0512089766561985, -0.014949927106499672, -0.05348072573542595, 0.00582891097292304, 0.0011841238010674715, 0.12427983433008194, 0.006145545747131109, -0.033296119421720505, 0.030432453379034996, 0.00453232554718852, 0.03898278623819351, 0.013467906042933464, -0.05095440149307251, 0.037947047501802444, -0.07178425043821335, -0.02734299935400486, -0.004979439079761505, 0.045878924429416656, -0.0620577447116375, 0.03367436304688454, -0.036684516817331314, 0.006145406048744917, 0.04601133242249489, -0.007516119629144669, -0.02859012596309185, 0.020694630220532417, 0.003135022707283497, -0.03903522714972496, -0.037564776837825775, -0.03360820934176445, -0.016611071303486824, 0.019955486059188843, 0.040195442736148834, -0.05833388864994049, 0.0030746380798518658, -0.014613645151257515, 0.04245944693684578, -0.00035021387157030404, -0.026114635169506073, 0.026998480781912804, -0.015159254893660545, -0.018584201112389565, 0.015537385828793049, -0.00940610934048891, 0.054567597806453705, -0.013961920514702797, 0.0037620491348206997, -0.014914152212440968, -0.05147964134812355, 0.013280337676405907, 0.006718684919178486, 0.020786747336387634, -0.008853183127939701, 0.011704674921929836, -0.03115737810730934, -0.05927753075957298, 0.0035342455375939608, 0.046458832919597626, -0.01309813093394041, -0.007361216004937887, 0.037351179867982864, 0.02391108125448227, 0.0771494060754776, 0.024859480559825897, 0.018811656162142754, 0.051122017204761505, -0.005112214479595423, -0.008998178876936436, -0.006255225744098425, -0.03523271158337593, -0.024324258789420128, 0.011589974164962769, -0.033526185899972916, 0.0659787505865097, 0.04067353159189224, -0.06135779619216919, -0.05701369792222977, -0.007125782780349255, -0.01351102627813816, 0.05899156257510185, 0.04342951625585556, -0.030518272891640663, -0.026009157299995422, 0.047482337802648544, -0.0019829762168228626, 0.032035019248723984, 0.008462030440568924, 0.028728248551487923, 0.007386353332549334, 0.06719563156366348, 0.0027791487518697977, -0.010776344686746597, 0.04729026183485985, 0.037584688514471054, -0.024938732385635376, 0.02539699152112007, 0.07310869544744492, -0.0635286346077919, -0.02835085056722164, -0.01838558539748192, -0.027303079143166542, 0.025208719074726105, -0.00404535373672843, -0.012088547460734844, -0.02057272009551525, -0.02084052935242653, 0.019234096631407738, -0.06041896343231201, -0.014042442664504051, 0.0318472646176815, -0.026887431740760803, -0.009157738648355007, 0.014193390496075153, 0.015357631258666515, -0.01306967157870531, 2.7396416157898784e-07, -0.021796129643917084, 0.052725017070770264, -0.013090228661894798, 0.01923081837594509, -0.061438970267772675, -0.05718786269426346, -0.006699098739773035, -0.01210229005664587, 0.05016671493649483, 0.06089227274060249, 0.047583311796188354, -0.004829798825085163, 0.03866390511393547, -0.08775274455547333, -0.06167298182845116, -0.052996210753917694, 0.005171319004148245, -0.01957535184919834, -0.0255159642547369, 0.010647906921803951, 0.02589133195579052, 0.03299248591065407, 0.05560046434402466, -0.05461960658431053, 0.033153463155031204, 0.01310125645250082, -0.04759650304913521, -0.08110901713371277, -0.04798004403710365, 0.0030263455118983984, 0.05050784349441528, -0.09037990868091583, 0.047122176736593246, -0.046141136437654495, 0.0031694776844233274, -0.024848656728863716, 0.018416978418827057, 0.019072405993938446, -0.03529416769742966, -0.049548108130693436, 0.026271842420101166, 0.015255024656653404, -0.02103734202682972, 0.07005134224891663, -0.04512285813689232, 0.04935545474290848, -0.029047269374132156, 0.010071644559502602, -0.07100346684455872, 0.027862953022122383, -0.005022851284593344, 0.04472271725535393, -0.010642701759934425, 0.02500060945749283, -0.008679883554577827, 0.0010764212347567081, -0.01660894602537155, -0.015149585902690887, 0.05630427226424217, 0.053502406924963, -0.030030101537704468, 0.04971490055322647, 0.014577453956007957, 0.0038228300400078297, 0.007086049299687147, -0.039127472788095474, 0.01464067678898573, 2.1253966420423928e-34, 0.017067816108465195, -0.055429160594940186, 0.05044199153780937, 0.04695843905210495, 0.0665554329752922, 0.005776793695986271, -0.002226201817393303, 0.06459058821201324, 0.008002173155546188, -0.09348779171705246, 0.008647758513689041]\n",
            "Similar emails: [(Document(id='245e0b58-5f3f-41de-90a5-69aa1a72d66f', metadata={}, page_content='This is an example text for initialization.'), np.float32(1.6585236))]\n",
            "No duplicate found, score: 0.0\n",
            "resuls [\n",
            "  {\n",
            "    \"email_text\": \"Adjustment Request - Reallocation FeesDear Loan Servicing Team,\\n\\nWe request an adjustment to the loa...\",\n",
            "    \"classification\": [\n",
            "      {\n",
            "        \"request_category\": \"Adjustment\",\n",
            "        \"subrequest_type\": \"Reallocation Fees\",\n",
            "        \"confidence_reason\": \"The presence of keywords 'reallocate the funds' and 'reallocation fees' indicates that this is an adjustment request, specifically for reallocation fees.\",\n",
            "        \"confidence_score_percentage\": 90\n",
            "      }\n",
            "    ],\n",
            "    \"duplicate\": false,\n",
            "    \"key_data\": {\n",
            "      \"account_number\": \"#123456\",\n",
            "      \"amount\": \"$50,000\",\n",
            "      \"effective_date\": \"2025-04-10\"\n",
            "    }\n",
            "  }\n",
            "]\n"
          ]
        },
        {
          "output_type": "execute_result",
          "data": {
            "text/plain": [
              "[{'email_text': 'Adjustment Request - Reallocation FeesDear Loan Servicing Team,\\n\\nWe request an adjustment to the loa...',\n",
              "  'classification': [{'request_category': 'Adjustment',\n",
              "    'subrequest_type': 'Reallocation Fees',\n",
              "    'confidence_reason': \"The presence of keywords 'reallocate the funds' and 'reallocation fees' indicates that this is an adjustment request, specifically for reallocation fees.\",\n",
              "    'confidence_score_percentage': 90}],\n",
              "  'duplicate': False,\n",
              "  'key_data': {'account_number': '#123456',\n",
              "   'amount': '$50,000',\n",
              "   'effective_date': '2025-04-10'}}]"
            ]
          },
          "metadata": {},
          "execution_count": 46
        }
      ]
    },
    {
      "cell_type": "code",
      "source": [
        "from flask import Flask, request, jsonify\n",
        "import json\n",
        "from pyngrok import ngrok\n",
        "\n",
        "app = Flask(__name__)\n",
        "\n",
        "@app.route('/process_email', methods=['POST'])\n",
        "def process_email():\n",
        "    print(\"into process mail\")\n",
        "    if 'eml_file' not in request.files:\n",
        "        return jsonify({'error': 'No EML file provided'}), 400\n",
        "\n",
        "    print(\"eml file exists\")\n",
        "    eml_file = request.files['eml_file']\n",
        "    eml_file.save('temp_email.eml')  # Save temporarily\n",
        "    print(\"saved to temp file\")\n",
        "    results = process_eml_file('temp_email.eml')  # Call the processing method\n",
        "    print(\"results received \", results)\n",
        "    response_data = {\n",
        "        \"message\": \"Email processed successfully\",\n",
        "        \"results\": results\n",
        "    }\n",
        "\n",
        "    return jsonify(response_data), 200\n",
        "\n",
        "if __name__ == '__main__':\n",
        "     ngrok.set_auth_token(\"2t6u6zBAZFZh2JGODqQ0s0MyQt8_7XXGdkuk8Mm3UhCdw73WA\") # signup and get auth token from https://dashboard.ngrok.com/get-started/your-authtoken\n",
        "     public_url = ngrok.connect(5000).public_url\n",
        "     print(f\" * Running on {public_url} (Press CTRL+C to quit)\")\n",
        "     app.run(host='0.0.0.0', port=5000, debug=True)"
      ],
      "metadata": {
        "colab": {
          "base_uri": "https://localhost:8080/"
        },
        "id": "r-2Lk1hva82f",
        "outputId": "070daa40-c4c5-469e-aeb8-28b65d0c2f0b"
      },
      "execution_count": 19,
      "outputs": [
        {
          "output_type": "stream",
          "name": "stdout",
          "text": [
            " * Running on https://f866-34-125-206-204.ngrok-free.app (Press CTRL+C to quit)\n",
            " * Serving Flask app '__main__'\n",
            " * Debug mode: on\n"
          ]
        },
        {
          "output_type": "stream",
          "name": "stderr",
          "text": [
            "INFO:werkzeug:\u001b[31m\u001b[1mWARNING: This is a development server. Do not use it in a production deployment. Use a production WSGI server instead.\u001b[0m\n",
            " * Running on all addresses (0.0.0.0)\n",
            " * Running on http://127.0.0.1:5000\n",
            " * Running on http://172.28.0.12:5000\n",
            "INFO:werkzeug:\u001b[33mPress CTRL+C to quit\u001b[0m\n",
            "INFO:werkzeug: * Restarting with stat\n",
            "WARNING:pyngrok.process.ngrok:t=2025-03-26T11:49:34+0000 lvl=warn msg=\"Stopping forwarder\" name=http-5000-ea748e17-5766-40d6-9bbb-4d87af70602b acceptErr=\"failed to accept connection: Listener closed\"\n",
            "WARNING:pyngrok.process.ngrok:t=2025-03-26T11:49:34+0000 lvl=warn msg=\"Error restarting forwarder\" name=http-5000-ea748e17-5766-40d6-9bbb-4d87af70602b err=\"failed to start tunnel: session closed\"\n"
          ]
        }
      ]
    }
  ]
}